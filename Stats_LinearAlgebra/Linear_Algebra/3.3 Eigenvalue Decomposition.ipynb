{
 "cells": [
  {
   "cell_type": "markdown",
   "metadata": {},
   "source": [
    "### Eigenvector and Eigenvalue\n",
    "[Reference Link](https://angeloyeo.github.io/2019/07/17/eigen_vector.html)"
   ]
  },
  {
   "cell_type": "markdown",
   "metadata": {},
   "source": [
    "**DEFINITION 1)**\n",
    "\n",
    "고윳값, 고유벡터 임의의 n x n 행렬 A 에 대하여, 0이 아닌 솔루션 벡터 $\\vec{x}$ 가 존재한다면 숫자 $\\lambda$는 행렬 A 의 고윳값이라고 할 수 있다.\n",
    "\n",
    "$$A \\vec{x}=\\lambda \\vec{x}$$\n",
    "\n",
    "이 때, 솔루션 벡터 $\\vec{x}$ 는 고윳값(Eigenvalue) $\\lambda$ 에 대응하는 고유벡터(Eigenvector)이다.\n",
    "\n",
    "**특성방정식(characteristic equation)**\n",
    "\n",
    "$$det(A− \\lambda I) = 0$$\n",
    "이 조건은 행렬 $𝐴−\\lambda𝐼$가 **역행렬이 존재하지 않는다는 뜻이다**. 만약 $𝐴−\\lambda𝐼$의 역행렬이 존재한다면 고윳값 조건을 만족하는 벡터가 항상 영벡터가 되기 때문이다.\n",
    "\n",
    "$$(𝐴−\\lambda𝐼)^{-1}(𝐴−\\lambda𝐼)𝑣=0$$ \n",
    "\n",
    "$$⇒ 𝑣=0$$\n"
   ]
  },
  {
   "cell_type": "markdown",
   "metadata": {},
   "source": [
    "**예시1)*\n",
    "\n",
    "$$ A = \\begin{bmatrix}\n",
    "        2&1\\\\\n",
    "        1&2\n",
    "        \\end{bmatrix} ,$$\n",
    "\n",
    "$$det(A− \\lambda I)= det(\\begin{bmatrix}\n",
    "                        2-\\lambda & 1 \\\\\n",
    "                        1 & 2-\\lambda\n",
    "                    \\end{bmatrix} ) $$\n",
    "                    \n",
    "$$⇒(2−\\lambda)^2−1$$\n",
    "\n",
    "$$⇒(4−4\\lambda+\\lambda^2)−1$$\n",
    "\n",
    "$$⇒\\lambda^2−4\\lambda+3=0$$\n",
    "\n",
    "$$그러므로, \\lambda_{1}=1, \\lambda_{2}=3 이다.$$\n",
    "\n",
    "\n",
    "즉, 선형변환 A의 고윳값(Eigenvalue)는 1과 3이다. 바꿔 말하면, 선형 변환을 했을 때 그 크기는 변하고 방향이 변하지 않는 벡터가 있다고 할 때, 그 벡터의 크기는 각각 1배와 3배가 된다는 의미이다."
   ]
  },
  {
   "cell_type": "code",
   "execution_count": 3,
   "metadata": {},
   "outputs": [
    {
     "name": "stdout",
     "output_type": "stream",
     "text": [
      "Matrix : [[2 1]\n",
      " [1 2]]\n",
      "Eigenvalue :[3. 1.]\n",
      "Eigenvector : \n",
      "[[ 0.70710678 -0.70710678]\n",
      " [ 0.70710678  0.70710678]]\n"
     ]
    }
   ],
   "source": [
    "import numpy as np\n",
    "\n",
    "A = np.array([[2,1],[1,2]])\n",
    "print(f\"Matrix : {A}\")\n",
    "\n",
    "w,v=np.linalg.eig(A)\n",
    "print(f'Eigenvalue :{w}')\n",
    "print(f'Eigenvector : \\n{v}')"
   ]
  },
  {
   "cell_type": "markdown",
   "metadata": {},
   "source": [
    "- 넘파이는 고유벡터(Eigenvector)를 표시할 때는 길이가 1인 단위벡터가 되도록 다음처럼 정규화(normalization)를 한다.\n",
    "\n",
    "$$\\frac{\\vec{x}}{\\left\\lVert \\vec{x} \\right\\rVert}$$\n"
   ]
  },
  {
   "cell_type": "code",
   "execution_count": 10,
   "metadata": {},
   "outputs": [
    {
     "name": "stdout",
     "output_type": "stream",
     "text": [
      " Matrix : [[2 3]\n",
      " [2 1]]\n",
      "Eigenvalue :[ 4. -1.]\n",
      "Eigenvector : \n",
      "[[ 0.83205029 -0.70710678]\n",
      " [ 0.5547002   0.70710678]]\n"
     ]
    }
   ],
   "source": [
    "B = np.array([[2,3],[2,1]])\n",
    "print(f\" Matrix : {B}\")\n",
    "\n",
    "w,v=np.linalg.eig(B)\n",
    "print(f'Eigenvalue :{w}')\n",
    "print(f'Eigenvector : \\n{v}')\n"
   ]
  },
  {
   "cell_type": "code",
   "execution_count": 11,
   "metadata": {},
   "outputs": [
    {
     "data": {
      "text/plain": [
       "array([[0.24988703, 1.7890441 ],\n",
       "       [2.52361395, 2.37120737]])"
      ]
     },
     "execution_count": 11,
     "metadata": {},
     "output_type": "execute_result"
    }
   ],
   "source": [
    "np.dot(v,B)"
   ]
  },
  {
   "cell_type": "markdown",
   "metadata": {},
   "source": [
    "**고윳값의 개수**\n",
    "\n",
    "𝑁차방정식이 항상 𝑁개의 복소수 해를 가진다는 사실을 이용하면 𝑁차원 정방행렬의 고윳값의 개수에 대해 다음 정리가 성립한다.\n",
    "\n",
    "[정리](https://angeloyeo.github.io/2019/07/17/eigen_vector.html) 중복된 고윳값을 각각 별개로 생각하고 복소수인 고윳값도 고려한다면 𝑁차원 정방행렬의 고윳값은 항상 𝑁개다."
   ]
  }
 ],
 "metadata": {
  "kernelspec": {
   "display_name": "Python 3 (ipykernel)",
   "language": "python",
   "name": "python3"
  },
  "language_info": {
   "codemirror_mode": {
    "name": "ipython",
    "version": 3
   },
   "file_extension": ".py",
   "mimetype": "text/x-python",
   "name": "python",
   "nbconvert_exporter": "python",
   "pygments_lexer": "ipython3",
   "version": "3.8.5"
  }
 },
 "nbformat": 4,
 "nbformat_minor": 4
}
