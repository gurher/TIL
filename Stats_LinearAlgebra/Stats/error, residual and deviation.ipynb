{
 "cells": [
  {
   "cell_type": "markdown",
   "metadata": {},
   "source": [
    "### [Reference Note](https://signature95.tistory.com/m/49)"
   ]
  },
  {
   "cell_type": "code",
   "execution_count": 15,
   "metadata": {},
   "outputs": [],
   "source": [
    "import pandas as pd\n",
    "import numpy as np\n",
    "import matplotlib.pyplot as plt\n",
    "import seaborn as sns\n",
    "import warnings\n",
    "\n",
    "# from sklearn.datasets import load_boston\n",
    "warnings.filterwarnings(\"ignore\")\n",
    "\n",
    "\n"
   ]
  },
  {
   "cell_type": "code",
   "execution_count": 16,
   "metadata": {},
   "outputs": [
    {
     "data": {
      "text/plain": [
       "<matplotlib.collections.PathCollection at 0x7f8b20750580>"
      ]
     },
     "execution_count": 16,
     "metadata": {},
     "output_type": "execute_result"
    },
    {
     "data": {
      "image/png": "[encoded data removed]",
      "text/plain": [
       "<Figure size 432x288 with 1 Axes>"
      ]
     },
     "metadata": {
      "needs_background": "light"
     },
     "output_type": "display_data"
    }
   ],
   "source": [
    "np.random.seed(0)\n",
    "X = 2 * np.random.rand(100,1)\n",
    "y = 6 + 4*X+np.random.randn(100,1)\n",
    "\n",
    "plt.scatter(X,y)"
   ]
  },
  {
   "cell_type": "code",
   "execution_count": 22,
   "metadata": {},
   "outputs": [
    {
     "name": "stdout",
     "output_type": "stream",
     "text": [
      "R-squared :  0.84066\n",
      "constant coef p 값 :  0.00000\n",
      "feature coef p 값 :  0.00000\n",
      "MSE :  1.01269\n",
      "\n",
      "\n",
      "결정계수 R-squared :  0.84066\n",
      "constant coef(계수)에 대한 p 값 :  0.00000\n",
      "feature coef(계수)에 대한 p 값 :  0.00000\n",
      "잔차의 제곱합 MSE :  1.01269\n",
      "\n",
      "\n"
     ]
    },
    {
     "data": {
      "image/png": "[encoded data removed]",
      "text/plain": [
       "<Figure size 432x288 with 1 Axes>"
      ]
     },
     "metadata": {
      "needs_background": "light"
     },
     "output_type": "display_data"
    }
   ],
   "source": [
    "import statsmodels.api as sm\n",
    "\n",
    "# target은 종속변수, feature는 독립변수와 같다.\n",
    "target = y\n",
    "feature = X\n",
    "\n",
    "\n",
    "# 상수항을 더해줘서 회귀식을 더 잘 적합할 수 있도록 만들어 준다.\n",
    "feature_add = sm.add_constant(feature, has_constant='add')\n",
    "# 상수항 더한 것 확인\n",
    "# feature_add\n",
    "\n",
    "# # sm OLS 적합\n",
    "model = sm.OLS(target, feature_add)\n",
    "fitted_model = model.fit()\n",
    "\n",
    "# # 통계치 출력\n",
    "print(f'R-squared : {fitted_model.rsquared : .5f}')\n",
    "print(f'constant coef p 값 : {fitted_model.pvalues[0] : .5f}')\n",
    "print(f'feature coef p 값 : {fitted_model.pvalues[1] : .5f}')\n",
    "print(f'MSE : {fitted_model.mse_resid : .5f}')\n",
    "print('\\n')\n",
    "# # # 회귀선 도출\n",
    "target_pred1 = fitted_model.predict()\n",
    "\n",
    "# # # 통계치 출력\n",
    "print(f'결정계수 R-squared : {fitted_model.rsquared : .5f}')\n",
    "print(f'constant coef(계수)에 대한 p 값 : {fitted_model.pvalues[0] : .5f}')\n",
    "print(f'feature coef(계수)에 대한 p 값 : {fitted_model.pvalues[1] : .5f}')\n",
    "print(f'잔차의 제곱합 MSE : {fitted_model.mse_resid : .5f}')\n",
    "print('\\n')\n",
    "# # # 회귀선 도출\n",
    "target_pred1 = fitted_model.predict()\n",
    "\n",
    "plt.scatter(feature, target, marker='+', label='$Y_i$ Actual Value')\n",
    "plt.plot(feature, target_pred1, color = 'g', label='$\\hat{Y}_i$ Regression Line')\n",
    "plt.hlines(target.mean(), feature.min(), feature.max(), color = 'r', label='$Y_i$ Average Line')\n",
    "plt.legend()\n",
    "plt.xlabel('X values')\n",
    "plt.ylabel('Y values')\n",
    "plt.show()"
   ]
  }
 ],
 "metadata": {
  "kernelspec": {
   "display_name": "Python 3 (ipykernel)",
   "language": "python",
   "name": "python3"
  },
  "language_info": {
   "codemirror_mode": {
    "name": "ipython",
    "version": 3
   },
   "file_extension": ".py",
   "mimetype": "text/x-python",
   "name": "python",
   "nbconvert_exporter": "python",
   "pygments_lexer": "ipython3",
   "version": "3.8.5"
  }
 },
 "nbformat": 4,
 "nbformat_minor": 4
}
