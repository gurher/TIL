{
 "cells": [
  {
   "cell_type": "markdown",
   "id": "229570e1",
   "metadata": {},
   "source": [
    "## [Unsupervised Methods: Nonlinear Mapping](https://woosikyang.github.io/first-post.html)\n",
    "\n",
    "- ISOMAP\n",
    "- Local Linear Embedding\n",
    "- t-SNE\n"
   ]
  }
 ],
 "metadata": {
  "kernelspec": {
   "display_name": "Python 3 (ipykernel)",
   "language": "python",
   "name": "python3"
  },
  "language_info": {
   "codemirror_mode": {
    "name": "ipython",
    "version": 3
   },
   "file_extension": ".py",
   "mimetype": "text/x-python",
   "name": "python",
   "nbconvert_exporter": "python",
   "pygments_lexer": "ipython3",
   "version": "3.8.5"
  }
 },
 "nbformat": 4,
 "nbformat_minor": 5
}
