{
 "cells": [
  {
   "cell_type": "markdown",
   "metadata": {},
   "source": [
    "### 189. Rotate Array"
   ]
  },
  {
   "cell_type": "code",
   "execution_count": 7,
   "metadata": {},
   "outputs": [
    {
     "name": "stdout",
     "output_type": "stream",
     "text": [
      "[4, 23, 5, 2, 7, 11, 15]\n",
      "3\n"
     ]
    }
   ],
   "source": [
    "\n",
    "numbers = [2,7,11,15,4,23,5]\n",
    "\n",
    "numbers[0] = 4\n",
    "\n",
    "target = 3\n",
    "\n",
    "# for idx, num in enumerate(numbers):\n",
    "\n",
    "#     t = target - idx\n",
    "    \n",
    "#     numbers[idx+target], numbers[t] = num, numbers[idx+target]\n",
    "#     print(numbers)\n",
    "    \n",
    "# numbers\n",
    "   \n",
    "######################################\n",
    "\n",
    "nums = [2,7,11,15,4,23,5]\n",
    "k = 3\n",
    "    \n",
    "# back = nums[:-k]\n",
    "front = nums[-k:]\n",
    "\n",
    "del nums[-k:]\n",
    "\n",
    "nums[:0] = front\n",
    "\n",
    "print(nums)\n",
    "\n",
    "x = target%len(numbers)    \n",
    "print(x)\n"
   ]
  },
  {
   "cell_type": "code",
   "execution_count": 43,
   "metadata": {},
   "outputs": [
    {
     "data": {
      "text/plain": [
       "[5, 6, 7, 1, 2, 3, 4]"
      ]
     },
     "execution_count": 43,
     "metadata": {},
     "output_type": "execute_result"
    }
   ],
   "source": [
    "nums = [1,2,3,4,5,6,7]\n",
    "\n",
    "k = 3\n",
    "x = k%len(nums)\n",
    "\n",
    "\n",
    "# def rev(s,e):\n",
    "#     while s<e:\n",
    "#         nums[s], nums[e] = nums[e], nums[s]\n",
    "#         s+=1\n",
    "#         e-=1        \n",
    "# nums.reverse()\n",
    "# rev(0,x-1)\n",
    "# rev(x, len(nums)-1)\n",
    "\n",
    "\n",
    "\n",
    "######################################################\n",
    "\n",
    "temp = nums.copy()\n",
    "\n",
    "\n",
    "# temp = [nums[i] for i in range(len(nums))]\n",
    "\n",
    "for i in range(len(nums)):\n",
    "    nums[(i+k)%len(nums)] = temp[i]\n",
    "    \n",
    "nums    \n",
    "        \n",
    "        "
   ]
  },
  {
   "cell_type": "markdown",
   "metadata": {},
   "source": [
    "### 283. Move Zeroes"
   ]
  },
  {
   "cell_type": "code",
   "execution_count": 38,
   "metadata": {},
   "outputs": [
    {
     "name": "stdout",
     "output_type": "stream",
     "text": [
      "1 0 [1, 0, 0, 3, 12]\n",
      "3 1 [1, 3, 0, 0, 12]\n",
      "4 2 [1, 3, 12, 0, 0]\n"
     ]
    },
    {
     "data": {
      "text/plain": [
       "[1, 3, 12, 0, 0]"
      ]
     },
     "execution_count": 38,
     "metadata": {},
     "output_type": "execute_result"
    }
   ],
   "source": [
    "# nums = [0,0,1]\n",
    "nums = [0,1,0,3,12]\n",
    "temp = []\n",
    "cnt = 0\n",
    "        \n",
    "zero = 0\n",
    "for i in range(len(nums)):\n",
    "    if nums[i] != 0:\n",
    "        nums[i], nums[zero] = nums[zero], nums[i]\n",
    "        zero += 1\n",
    "nums"
   ]
  },
  {
   "cell_type": "markdown",
   "metadata": {},
   "source": [
    "### 167. Two Sum II - Input Array Is Sorted\n"
   ]
  },
  {
   "cell_type": "code",
   "execution_count": 42,
   "metadata": {},
   "outputs": [
    {
     "name": "stdout",
     "output_type": "stream",
     "text": [
      "[13011, 13012]\n"
     ]
    }
   ],
   "source": [
    "dic = {}\n",
    "target = 5\n",
    "for i, num in enumerate(nums):\n",
    "    if target-num in dic:\n",
    "        print( [dic[target-num]+1, i+1])\n",
    "    dic[num] = i\n",
    "    \n",
    "    "
   ]
  },
  {
   "cell_type": "code",
   "execution_count": 56,
   "metadata": {},
   "outputs": [
    {
     "name": "stdout",
     "output_type": "stream",
     "text": [
      "11\n",
      "14\n",
      "11\n",
      "11\n",
      "12\n",
      "13\n",
      "[5, 6]\n"
     ]
    }
   ],
   "source": [
    "numbers = [1,4,4,5,6,7,10]\n",
    "target = 13\n",
    "\n",
    "left = 0\n",
    "right = len(numbers) - 1\n",
    "while left < right:\n",
    "    sum_num = numbers[left] + numbers[right]\n",
    "    print(sum_num)\n",
    "    if sum_num == target:\n",
    "        print( [left + 1, right + 1]  )      \n",
    "        break\n",
    "    elif sum_num < target:\n",
    "        left += 1\n",
    "    else:\n",
    "        right -= 1\n",
    "\n"
   ]
  },
  {
   "cell_type": "code",
   "execution_count": 20,
   "metadata": {},
   "outputs": [
    {
     "name": "stdout",
     "output_type": "stream",
     "text": [
      "[1, 3]\n"
     ]
    }
   ],
   "source": [
    "numbers = [2,7,11,15]\n",
    "target = 9\n",
    "\n",
    "\n",
    "numbers = [2,3,4]\n",
    "target = 6\n",
    "\n",
    "\n",
    "for idx, num in enumerate(numbers):\n",
    "    number = target - num\n",
    "    # second_index = numbers.index(number)\n",
    "    if number in numbers:\n",
    "        first_index = numbers.index(number) + 1\n",
    "        second_index = idx + 1\n",
    "        \n",
    "final = [first_index, second_index]\n",
    "\n",
    "print (final)"
   ]
  },
  {
   "cell_type": "markdown",
   "metadata": {},
   "source": [
    "### 344. Reverse String"
   ]
  },
  {
   "cell_type": "code",
   "execution_count": 66,
   "metadata": {},
   "outputs": [
    {
     "name": "stdout",
     "output_type": "stream",
     "text": [
      "['h', 'a', 'n', 'n', 'a', 'H']\n",
      "1 4\n",
      "['h', 'a', 'n', 'n', 'a', 'H']\n",
      "2 3\n",
      "['h', 'a', 'n', 'n', 'a', 'H']\n",
      "3 2\n"
     ]
    },
    {
     "data": {
      "text/plain": [
       "['h', 'a', 'n', 'n', 'a', 'H']"
      ]
     },
     "execution_count": 66,
     "metadata": {},
     "output_type": "execute_result"
    }
   ],
   "source": [
    "# string = [\"h\",\"e\",\"l\",\"l\",\"o\"]\n",
    "string = [\"H\",\"a\",\"n\",\"n\",\"a\",\"h\"]\n",
    "s = 0\n",
    "e = len(string)-1\n",
    "while s < e :\n",
    "    string[s], string[e] = string[e], string[s]\n",
    "    s+=1\n",
    "    e-=1\n",
    "    print(string)\n",
    "    print(s,e)\n",
    "    \n",
    "string"
   ]
  },
  {
   "cell_type": "markdown",
   "metadata": {},
   "source": [
    "### 557. Reverse Words in a String III"
   ]
  },
  {
   "cell_type": "code",
   "execution_count": 89,
   "metadata": {},
   "outputs": [
    {
     "data": {
      "text/plain": [
       "\"s'teLekatedoCteeLtsetnoc\""
      ]
     },
     "execution_count": 89,
     "metadata": {},
     "output_type": "execute_result"
    }
   ],
   "source": [
    "\n",
    "\n",
    "s = \"Let's take LeetCode contest\"\n",
    "\n",
    "words = s.split(' ')\n",
    "final = []\n",
    "\n",
    "for string in words:\n",
    "\n",
    "    temp = []\n",
    "    \n",
    "    \n",
    "    for j in range(1,len(string)+1) :\n",
    "        temp.append(string[-j]) \n",
    "    final.append(''.join(temp))\n",
    "    \n",
    "ans = ''.join(final)\n",
    "    \n",
    "#     s = 0\n",
    "#     e = len(string)-1\n",
    "#     while s < e :\n",
    "#         string[s], string[e] = string[e], string[s]\n",
    "#         string.replace()\n",
    "#         s+=1\n",
    "#         e-=1\n",
    "#     final.append(string)\n",
    "\n",
    "ans\n",
    "    \n"
   ]
  },
  {
   "cell_type": "code",
   "execution_count": null,
   "metadata": {},
   "outputs": [],
   "source": []
  },
  {
   "cell_type": "code",
   "execution_count": 95,
   "metadata": {},
   "outputs": [
    {
     "data": {
      "text/plain": [
       "[4, 5, 6]"
      ]
     },
     "execution_count": 95,
     "metadata": {},
     "output_type": "execute_result"
    }
   ],
   "source": [
    "head = [1,2,3,4,5]\n",
    "head = [1,2,3,4,5,6]\n",
    "\n",
    "idx = int(len(head)/2)\n",
    "\n",
    "head[idx:]\n",
    "\n",
    "\n",
    "\n"
   ]
  }
 ],
 "metadata": {
  "kernelspec": {
   "display_name": "Python 3 (ipykernel)",
   "language": "python",
   "name": "python3"
  },
  "language_info": {
   "codemirror_mode": {
    "name": "ipython",
    "version": 3
   },
   "file_extension": ".py",
   "mimetype": "text/x-python",
   "name": "python",
   "nbconvert_exporter": "python",
   "pygments_lexer": "ipython3",
   "version": "3.8.5"
  }
 },
 "nbformat": 4,
 "nbformat_minor": 4
}
