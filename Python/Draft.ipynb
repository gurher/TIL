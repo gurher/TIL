{
 "cells": [
  {
   "cell_type": "code",
   "execution_count": 6,
   "metadata": {},
   "outputs": [
    {
     "name": "stdout",
     "output_type": "stream",
     "text": [
      "0\n",
      "1\n",
      "0\n"
     ]
    }
   ],
   "source": [
    "nums = [0,0,1]\n",
    "\n",
    "index = 0\n",
    "for idx, num in enumerate(nums):\n",
    "    print(num)\n",
    "    if num != 0:\n",
    "        nums[index] = num\n",
    "        \n",
    "        \n",
    "\n"
   ]
  },
  {
   "cell_type": "code",
   "execution_count": 20,
   "metadata": {},
   "outputs": [
    {
     "name": "stdout",
     "output_type": "stream",
     "text": [
      "[1, 3]\n"
     ]
    }
   ],
   "source": [
    "numbers = [2,7,11,15]\n",
    "target = 9\n",
    "\n",
    "\n",
    "numbers = [2,3,4]\n",
    "target = 6\n",
    "\n",
    "\n",
    "for idx, num in enumerate(numbers):\n",
    "    number = target - num\n",
    "    # second_index = numbers.index(number)\n",
    "    if number in numbers:\n",
    "        first_index = numbers.index(number) + 1\n",
    "        second_index = idx + 1\n",
    "        \n",
    "final = [first_index, second_index]\n",
    "\n",
    "print (final)"
   ]
  }
 ],
 "metadata": {
  "kernelspec": {
   "display_name": "Python 3 (ipykernel)",
   "language": "python",
   "name": "python3"
  },
  "language_info": {
   "codemirror_mode": {
    "name": "ipython",
    "version": 3
   },
   "file_extension": ".py",
   "mimetype": "text/x-python",
   "name": "python",
   "nbconvert_exporter": "python",
   "pygments_lexer": "ipython3",
   "version": "3.8.5"
  }
 },
 "nbformat": 4,
 "nbformat_minor": 4
}
